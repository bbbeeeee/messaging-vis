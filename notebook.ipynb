{
 "cells": [
  {
   "cell_type": "code",
   "execution_count": 5,
   "id": "676610f3",
   "metadata": {},
   "outputs": [
    {
     "name": "stderr",
     "output_type": "stream",
     "text": [
      "[nltk_data] Downloading package punkt to\n",
      "[nltk_data]     /Users/brandontruong/nltk_data...\n",
      "[nltk_data]   Package punkt is already up-to-date!\n"
     ]
    },
    {
     "data": {
      "text/plain": [
       "True"
      ]
     },
     "execution_count": 5,
     "metadata": {},
     "output_type": "execute_result"
    }
   ],
   "source": [
    "import pandas as pd\n",
    "import matplotlib.pyplot as plt\n",
    "import datetime\n",
    "import time\n",
    "from textblob import TextBlob\n",
    "import nltk\n",
    "nltk.download('punkt')"
   ]
  },
  {
   "cell_type": "code",
   "execution_count": 2,
   "id": "c90a42b0",
   "metadata": {
    "scrolled": true
   },
   "outputs": [],
   "source": [
    "messages = pd.read_csv('out.csv')"
   ]
  },
  {
   "cell_type": "code",
   "execution_count": 3,
   "id": "412f9b9a",
   "metadata": {},
   "outputs": [],
   "source": [
    "from collections import Counter\n",
    "from pandas.plotting import scatter_matrix\n",
    "from colour import Color\n",
    "import matplotlib.gridspec as gridspec\n",
    "import matplotlib.pyplot as plt\n",
    "\n",
    "times = pd.to_datetime(messages.date)\n",
    "message_daily = messages[messages.is_from_me == False].groupby([times.dt.date])\n",
    "data = message_daily\n",
    "\n",
    "def get_daily_info(group):\n",
    "    text = '\\n'.join(group.astype(str).tolist())\n",
    "    tb = TextBlob(text)\n",
    "    \n",
    "    wc = tb.word_counts\n",
    "    word_count = len(wc.keys())\n",
    "\n",
    "    k = Counter(wc)\n",
    "    top_words = k.most_common(100)\n",
    "\n",
    "    sentiment = tb.sentiment\n",
    "    return [word_count, sentiment]\n",
    "\n",
    "data = data['text'].agg(get_daily_info)"
   ]
  },
  {
   "cell_type": "code",
   "execution_count": 6,
   "id": "692d340d",
   "metadata": {},
   "outputs": [
    {
     "data": {
      "image/png": "[encoded data removed]",
      "text/plain": [
       "<Figure size 72x72 with 901 Axes>"
      ]
     },
     "metadata": {
      "needs_background": "light"
     },
     "output_type": "display_data"
    }
   ],
   "source": [
    "import matplotlib.pyplot as plt\n",
    "\n",
    "polarity = list(Color(\"#FF5964\").range_to(Color(\"#6BF178\"),85))\n",
    "subjectivity = list(Color(\"#FFFFFF\").range_to(Color(\"#EAD94C\"),40))\n",
    "fig, axs = plt.subplots(nrows=1, ncols=1, figsize=(1, 1),\n",
    "                        subplot_kw={'xticks': [], 'yticks': []})\n",
    "outer = gridspec.GridSpec(30, 30, wspace=0, hspace=0)\n",
    "counter = 0\n",
    "for ss in outer:\n",
    "    if counter > 899:\n",
    "        break\n",
    "    p = fig.add_subplot(ss)\n",
    "    point_color = '#EAD94C'\n",
    "    # wonky pos/neg coloring\n",
    "    if data[counter][1][0] > 0:\n",
    "        point_color = polarity[min(64, 35 + abs(round(data[counter][1][0] * 100)))]\n",
    "    else:\n",
    "        point_color = polarity[16 + min(0, round(data[counter][1][0] * 100))]\n",
    "    p.scatter( 0 , 0 , s = 1409 * 1.06 / 1500 * data[counter][0], c = [point_color.hex] )\n",
    "    p.set_facecolor(subjectivity[min(39, abs(round(data[counter][1][0] * 100)))].hex)\n",
    "    p.set_yticklabels([])\n",
    "    p.set_xticklabels([])\n",
    "    p.set_xlabel('')\n",
    "    p.set_ylabel('')\n",
    "    counter += 1"
   ]
  }
 ],
 "metadata": {
  "kernelspec": {
   "display_name": "Python 3",
   "language": "python",
   "name": "python3"
  },
  "language_info": {
   "codemirror_mode": {
    "name": "ipython",
    "version": 3
   },
   "file_extension": ".py",
   "mimetype": "text/x-python",
   "name": "python",
   "nbconvert_exporter": "python",
   "pygments_lexer": "ipython3",
   "version": "3.9.1"
  }
 },
 "nbformat": 4,
 "nbformat_minor": 5
}
